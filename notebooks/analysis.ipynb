{
 "cells": [
  {
   "cell_type": "markdown",
   "metadata": {},
   "source": [
    "# Analysis of Corn Disease Classification Models\n",
    "\n",
    "This notebook is used for exploratory data analysis and visualizing results from the VGG-16 and MobileViT models for corn disease classification."
   ]
  },
  {
   "cell_type": "code",
   "execution_count": null,
   "metadata": {
    "id": "import-libraries"
   },
   "outputs": [],
   "source": [
    "# Import necessary libraries\n",
    "import numpy as np\n",
    "import pandas as pd\n",
    "import matplotlib.pyplot as plt\n",
    "import seaborn as sns\n",
    "\n",
    "# Set visualization style\n",
    "sns.set(style='whitegrid')"
   ]
  },
  {
   "cell_type": "code",
   "execution_count": null,
   "metadata": {
    "id": "load-results"
   },
   "outputs": [],
   "source": [
    "# Load results from VGG-16 and MobileViT models\n",
    "vgg16_results = pd.read_json('../results/vgg16/results.json')\n",
    "mobilevit_results = pd.read_json('../results/mobilevit/results.json')\n",
    "\n",
    "# Display the first few rows of the results\n",
    "vgg16_results.head(), mobilevit_results.head()"
   ]
  },
  {
   "cell_type": "code",
   "execution_count": null,
   "metadata": {
    "id": "visualize-accuracy"
   },
   "outputs": [],
   "source": [
    "# Visualize accuracy of both models\n",
    "plt.figure(figsize=(12, 6))\n",
    "plt.plot(vgg16_results['epoch'], vgg16_results['accuracy'], label='VGG-16 Accuracy', color='blue')\n",
    "plt.plot(mobilevit_results['epoch'], mobilevit_results['accuracy'], label='MobileViT Accuracy', color='orange')\n",
    "plt.title('Model Accuracy Comparison')\n",
    "plt.xlabel('Epoch')\n",
    "plt.ylabel('Accuracy')\n",
    "plt.legend()\n",
    "plt.grid()\n",
    "plt.show()"
   ]
  },
  {
   "cell_type": "code",
   "execution_count": null,
   "metadata": {
    "id": "visualize-loss"
   },
   "outputs": [],
   "source": [
    "# Visualize loss of both models\n",
    "plt.figure(figsize=(12, 6))\n",
    "plt.plot(vgg16_results['epoch'], vgg16_results['loss'], label='VGG-16 Loss', color='blue')\n",
    "plt.plot(mobilevit_results['epoch'], mobilevit_results['loss'], label='MobileViT Loss', color='orange')\n",
    "plt.title('Model Loss Comparison')\n",
    "plt.xlabel('Epoch')\n",
    "plt.ylabel('Loss')\n",
    "plt.legend()\n",
    "plt.grid()\n",
    "plt.show()"
   ]
  },
  {
   "cell_type": "code",
   "execution_count": null,
   "metadata": {
    "id": "confusion-matrix"
   },
   "outputs": [],
   "source": [
    "# Function to plot confusion matrix\n",
    "def plot_confusion_matrix(cm, classes):\n",
    "    plt.figure(figsize=(8, 6))\n",
    "    sns.heatmap(cm, annot=True, fmt='d', cmap='Blues', cbar=False,\n",
    "                xticklabels=classes, yticklabels=classes)\n",
    "    plt.title('Confusion Matrix')\n",
    "    plt.ylabel('True label')\n",
    "    plt.xlabel('Predicted label')\n",
    "    plt.show()\n",
    "\n",
    "# Example usage (assuming cm is the confusion matrix and class_names are the class labels)\n",
    "# plot_confusion_matrix(cm, class_names)"
   ]
  },
  {
   "cell_type": "code",
   "execution_count": null,
   "metadata": {
    "id": "conclusion"
   },
   "outputs": [],
   "source": [
    "# Conclusion\n",
    "print(\"This notebook provides an analysis of the performance of the VGG-16 and MobileViT models for corn disease classification.\")"
   ]
  }
 ],
 "metadata": {
  "kernelspec": {
   "display_name": "Python 3",
   "language": "python",
   "name": "python3"
  },
  "language_info": {
   "codemirror_mode": {
    "name": "ipython",
    "version": 3
   },
   "file_extension": ".py",
   "mimetype": "text/x-python",
   "name": "python",
   "nbconvert_exporter": "python",
   "pygments_lexer": "ipython3",
   "version": "3.8.5"
  }
 },
 "nbformat": 4,
 "nbformat_minor": 4
}